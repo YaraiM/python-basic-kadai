{
  "nbformat": 4,
  "nbformat_minor": 0,
  "metadata": {
    "colab": {
      "provenance": []
    },
    "kernelspec": {
      "name": "python3",
      "display_name": "Python 3"
    },
    "language_info": {
      "name": "python"
    }
  },
  "cells": [
    {
      "cell_type": "code",
      "execution_count": null,
      "metadata": {
        "id": "Sq9mhaZvSYhX"
      },
      "outputs": [],
      "source": [
        "def purchase_total(price, tax):\n",
        "    total = price * (100 + tax) / 100\n",
        "    return total\n",
        "\n",
        "purchase_total(1000, 10)"
      ]
    }
  ]
}