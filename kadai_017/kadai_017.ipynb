{
  "nbformat": 4,
  "nbformat_minor": 0,
  "metadata": {
    "colab": {
      "provenance": []
    },
    "kernelspec": {
      "name": "python3",
      "display_name": "Python 3"
    },
    "language_info": {
      "name": "python"
    }
  },
  "cells": [
    {
      "cell_type": "code",
      "execution_count": 38,
      "metadata": {
        "colab": {
          "base_uri": "https://localhost:8080/"
        },
        "id": "FU9DJP3qnol5",
        "outputId": "bec7adea-30f6-4d71-cd40-acc31639961a"
      },
      "outputs": [
        {
          "output_type": "stream",
          "name": "stdout",
          "text": [
            "ichiroは大人です\n",
            "jiroは大人です\n",
            "saburoは大人ではありません\n",
            "shiroは大人ではありません\n",
            "oyajiは大人です\n",
            "ohukuroは大人です\n"
          ]
        }
      ],
      "source": [
        "class Human:\n",
        "    # コンストラクタ\n",
        "    def __init__(self, name, age):\n",
        "        self.name = name\n",
        "        self.age = age\n",
        "    # メソッド（アダルトチェック）\n",
        "    def check_adult(self):\n",
        "        if self.age >= 20:\n",
        "            print(f\"{self.name}は大人です\")\n",
        "        else:\n",
        "            print(f\"{self.name}は大人ではありません\")\n",
        "\n",
        "# human1～6をインスタンス化\n",
        "human1 = Human(\"ichiro\", 33)\n",
        "human2 = Human(\"jiro\", 24)\n",
        "human3 = Human(\"saburo\", 19)\n",
        "human4 = Human(\"shiro\", 15)\n",
        "human5 = Human(\"oyaji\", 60)\n",
        "human6 = Human(\"ohukuro\", 58)\n",
        "\n",
        "# リストに格納\n",
        "humans = [human1, human2, human3, human4, human5, human6]\n",
        "\n",
        "# 繰り返し処理・アダルトチェック関数の呼び出し\n",
        "for human in humans:\n",
        "    human.check_adult()"
      ]
    }
  ]
}